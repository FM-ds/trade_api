{
 "cells": [
  {
   "cell_type": "code",
   "execution_count": null,
   "metadata": {},
   "outputs": [],
   "source": [
    "import pandas as pd\n",
    "from pinecone.grpc import PineconeGRPC as Pinecone\n",
    "from pinecone import ServerlessSpec\n",
    "import time\n",
    "from tqdm import tqdm  # For progress tracking\n",
    "import itertools    \n",
    "import json\n"
   ]
  },
  {
   "cell_type": "code",
   "execution_count": null,
   "metadata": {},
   "outputs": [],
   "source": [
    "with open(\"creds.json\", \"r\") as f:\n",
    "    creds = json.load(f)[\"pinecone\"]\n",
    "\n",
    "pc = Pinecone(\n",
    "    api_key=api_key, \n",
    ")\n",
    "\n",
    "# Check if the index already exists\n",
    "if 'product-codes-index' not in pc.list_indexes().names():\n",
    "    # Create an index\n",
    "    pc.create_index(\n",
    "        name='product-codes-index',\n",
    "        dimension=1024,  \n",
    "        metric='cosine',  \n",
    "        spec=ServerlessSpec(\n",
    "            cloud='aws', \n",
    "            region='us-east-1'\n",
    "        ) \n",
    "    )"
   ]
  },
  {
   "cell_type": "code",
   "execution_count": null,
   "metadata": {},
   "outputs": [],
   "source": [
    "# Load and process the dataset\n",
    "df = pd.read_csv(\"data/product_codes_HS17_V202501.csv\")\n",
    "df = df.rename(columns={\"code\": \"id\", \"description\": \"text\"})\n",
    "\n",
    "# Ensure ID is a string\n",
    "df[\"id\"] = pd.to_numeric(df[\"id\"], errors=\"coerce\").astype(\"Int64\").astype(str)\n",
    "\n",
    "# Convert text to string and drop missing values\n",
    "df[\"text\"] = df[\"text\"].astype(str)\n",
    "df = df.dropna(subset=[\"id\", \"text\"])\n",
    "\n",
    "# Convert to list of dicts for processing\n",
    "data = df.to_dict(orient=\"records\")\n"
   ]
  },
  {
   "cell_type": "code",
   "execution_count": 73,
   "metadata": {},
   "outputs": [
    {
     "name": "stderr",
     "output_type": "stream",
     "text": [
      "Processing Batches: 57it [01:19,  1.40s/it]\n"
     ]
    }
   ],
   "source": [
    "BATCH_SIZE = 96\n",
    "\n",
    "# Function to process in batches\n",
    "def batch_generator(iterable, batch_size):\n",
    "    \"\"\"Yield successive batch_size chunks from iterable.\"\"\"\n",
    "    for i in range(0, len(iterable), batch_size):\n",
    "        yield iterable[i : i + batch_size]\n",
    "\n",
    "# Store all embeddings\n",
    "all_embeddings = []\n",
    "\n",
    "# Process embeddings in batches\n",
    "for batch in tqdm(batch_generator(data, BATCH_SIZE), desc=\"Processing Batches\"):\n",
    "    batch_texts = [d[\"text\"] for d in batch]\n",
    "\n",
    "    # Generate embeddings for the batch\n",
    "    batch_embeddings = pc.inference.embed(\n",
    "        model=\"multilingual-e5-large\",\n",
    "        inputs=batch_texts,\n",
    "        parameters={\"input_type\": \"passage\", \"truncate\": \"END\"}\n",
    "    )\n",
    "\n",
    "    # Append results\n",
    "    all_embeddings.extend(batch_embeddings)\n"
   ]
  },
  {
   "cell_type": "code",
   "execution_count": 74,
   "metadata": {},
   "outputs": [],
   "source": [
    "# Connect to the index\n",
    "index = pc.Index(\"product-codes-index\")"
   ]
  },
  {
   "cell_type": "code",
   "execution_count": 88,
   "metadata": {},
   "outputs": [
    {
     "data": {
      "text/plain": [
       "96"
      ]
     },
     "execution_count": 88,
     "metadata": {},
     "output_type": "execute_result"
    }
   ],
   "source": [
    "len(batch_data)"
   ]
  },
  {
   "cell_type": "code",
   "execution_count": 100,
   "metadata": {},
   "outputs": [
    {
     "name": "stdout",
     "output_type": "stream",
     "text": [
      "Upsert completed for 5384 records.\n"
     ]
    }
   ],
   "source": [
    "BATCH_SIZE = 96\n",
    "\n",
    "for start_idx in range(0, len(data), BATCH_SIZE):\n",
    "    end_idx = min(start_idx + BATCH_SIZE, len(data))\n",
    "    \n",
    "    batch_data = data[start_idx:end_idx]\n",
    "    batch_embeddings = [e.values for e in all_embeddings[start_idx:end_idx]]  # Extract float lists\n",
    "\n",
    "    # Prepare the upsert format (ID, vector, metadata)\n",
    "    upsert_data = [\n",
    "        (d[\"id\"], emb, {\"description\": d[\"text\"]})  # (id, vector, metadata)\n",
    "        for d, emb in zip(batch_data, batch_embeddings)\n",
    "    ]\n",
    "\n",
    "    # Perform upsert\n",
    "    index.upsert(vectors=upsert_data)\n",
    "\n",
    "print(f\"Upsert completed for {len(all_embeddings)} records.\")"
   ]
  },
  {
   "cell_type": "code",
   "execution_count": 103,
   "metadata": {},
   "outputs": [
    {
     "name": "stdout",
     "output_type": "stream",
     "text": [
      "Autocomplete suggestions for 'organic':\n",
      "- Organic surface-active agents: non-ionic (other than soap), whether or not put up for retail sale\n",
      "- Organic surface-active agents: cationic (other than soap), whether or not put up for retail sale\n",
      "- Organic surface-active agents: anionic (other than soap), whether or not put up for retail sale\n",
      "- Organic surface-active products and preparations for washing the skin, in the form of liquid or cream and put up for retail sale, whether or not containing soap\n",
      "- Dyes: synthetic organic products of a kind used as fluorescent brightening agents\n"
     ]
    }
   ],
   "source": [
    "def get_autocomplete_suggestions(query, top_k=5):\n",
    "    \"\"\"\n",
    "    Query Pinecone to get the top-k autocomplete suggestions based on input text.\n",
    "    \"\"\"\n",
    "    # Convert query text into an embedding\n",
    "    query_embedding = pc.inference.embed(\n",
    "        model=\"multilingual-e5-large\",\n",
    "        inputs=[query],\n",
    "        parameters={\"input_type\": \"query\", \"truncate\": \"END\"}\n",
    "    )[0].values  # Extract list of floats\n",
    "\n",
    "    # Perform a similarity search in Pinecone\n",
    "    results = index.query(\n",
    "        vector=query_embedding,\n",
    "        top_k=top_k,\n",
    "        include_metadata=True\n",
    "    )\n",
    "\n",
    "    # Extract product descriptions from results\n",
    "    suggestions = [match.metadata[\"description\"] for match in results.matches]\n",
    "    \n",
    "    return suggestions\n",
    "\n",
    "query_text = \"organic\"\n",
    "suggestions = get_autocomplete_suggestions(query_text)\n",
    "\n",
    "print(f\"Autocomplete suggestions for '{query_text}':\")\n",
    "for s in suggestions:\n",
    "    print(f\"- {s}\")"
   ]
  },
  {
   "cell_type": "code",
   "execution_count": 77,
   "metadata": {},
   "outputs": [
    {
     "ename": "PineconeException",
     "evalue": "UNKNOWN:Error received from peer  {grpc_message:\"Error, message length too large: found 22757507 bytes, the limit is: 4194304 bytes\", grpc_status:11, created_time:\"2025-02-07T02:32:17.995844+00:00\"}",
     "output_type": "error",
     "traceback": [
      "\u001b[0;31m---------------------------------------------------------------------------\u001b[0m",
      "\u001b[0;31m_InactiveRpcError\u001b[0m                         Traceback (most recent call last)",
      "\u001b[0;32m~/anaconda3/lib/python3.11/site-packages/pinecone/grpc/grpc_runner.py\u001b[0m in \u001b[0;36mwrapped\u001b[0;34m()\u001b[0m\n\u001b[1;32m     42\u001b[0m             \u001b[0;32mtry\u001b[0m\u001b[0;34m:\u001b[0m\u001b[0;34m\u001b[0m\u001b[0;34m\u001b[0m\u001b[0m\n\u001b[0;32m---> 43\u001b[0;31m                 return func(\n\u001b[0m\u001b[1;32m     44\u001b[0m                     \u001b[0mrequest\u001b[0m\u001b[0;34m,\u001b[0m\u001b[0;34m\u001b[0m\u001b[0;34m\u001b[0m\u001b[0m\n",
      "\u001b[0;32m~/anaconda3/lib/python3.11/site-packages/grpc/_channel.py\u001b[0m in \u001b[0;36m__call__\u001b[0;34m(self, request, timeout, metadata, credentials, wait_for_ready, compression)\u001b[0m\n\u001b[1;32m   1180\u001b[0m         )\n\u001b[0;32m-> 1181\u001b[0;31m         \u001b[0;32mreturn\u001b[0m \u001b[0m_end_unary_response_blocking\u001b[0m\u001b[0;34m(\u001b[0m\u001b[0mstate\u001b[0m\u001b[0;34m,\u001b[0m \u001b[0mcall\u001b[0m\u001b[0;34m,\u001b[0m \u001b[0;32mFalse\u001b[0m\u001b[0;34m,\u001b[0m \u001b[0;32mNone\u001b[0m\u001b[0;34m)\u001b[0m\u001b[0;34m\u001b[0m\u001b[0;34m\u001b[0m\u001b[0m\n\u001b[0m\u001b[1;32m   1182\u001b[0m \u001b[0;34m\u001b[0m\u001b[0m\n",
      "\u001b[0;32m~/anaconda3/lib/python3.11/site-packages/grpc/_channel.py\u001b[0m in \u001b[0;36m_end_unary_response_blocking\u001b[0;34m(state, call, with_call, deadline)\u001b[0m\n\u001b[1;32m   1005\u001b[0m     \u001b[0;32melse\u001b[0m\u001b[0;34m:\u001b[0m\u001b[0;34m\u001b[0m\u001b[0;34m\u001b[0m\u001b[0m\n\u001b[0;32m-> 1006\u001b[0;31m         \u001b[0;32mraise\u001b[0m \u001b[0m_InactiveRpcError\u001b[0m\u001b[0;34m(\u001b[0m\u001b[0mstate\u001b[0m\u001b[0;34m)\u001b[0m  \u001b[0;31m# pytype: disable=not-instantiable\u001b[0m\u001b[0;34m\u001b[0m\u001b[0;34m\u001b[0m\u001b[0m\n\u001b[0m\u001b[1;32m   1007\u001b[0m \u001b[0;34m\u001b[0m\u001b[0m\n",
      "\u001b[0;31m_InactiveRpcError\u001b[0m: <_InactiveRpcError of RPC that terminated with:\n\tstatus = StatusCode.OUT_OF_RANGE\n\tdetails = \"Error, message length too large: found 22757507 bytes, the limit is: 4194304 bytes\"\n\tdebug_error_string = \"UNKNOWN:Error received from peer  {grpc_message:\"Error, message length too large: found 22757507 bytes, the limit is: 4194304 bytes\", grpc_status:11, created_time:\"2025-02-07T02:32:17.995844+00:00\"}\"\n>",
      "\nThe above exception was the direct cause of the following exception:\n",
      "\u001b[0;31mPineconeException\u001b[0m                         Traceback (most recent call last)",
      "\u001b[0;32m/var/folders/07/g_yq2xsn0mvb4xnyvr18jjmw0000gn/T/ipykernel_12213/1353629727.py\u001b[0m in \u001b[0;36m<cell line: 0>\u001b[0;34m()\u001b[0m\n\u001b[1;32m      8\u001b[0m \u001b[0;34m\u001b[0m\u001b[0m\n\u001b[1;32m      9\u001b[0m \u001b[0;31m# Upsert the records into the index\u001b[0m\u001b[0;34m\u001b[0m\u001b[0;34m\u001b[0m\u001b[0m\n\u001b[0;32m---> 10\u001b[0;31m index.upsert(\n\u001b[0m\u001b[1;32m     11\u001b[0m     \u001b[0mvectors\u001b[0m\u001b[0;34m=\u001b[0m\u001b[0mrecords\u001b[0m\u001b[0;34m,\u001b[0m\u001b[0;34m\u001b[0m\u001b[0;34m\u001b[0m\u001b[0m\n\u001b[1;32m     12\u001b[0m     \u001b[0mnamespace\u001b[0m\u001b[0;34m=\u001b[0m\u001b[0;34m\"example-namespace\"\u001b[0m\u001b[0;34m\u001b[0m\u001b[0;34m\u001b[0m\u001b[0m\n",
      "\u001b[0;32m~/anaconda3/lib/python3.11/site-packages/pinecone/grpc/index_grpc.py\u001b[0m in \u001b[0;36mupsert\u001b[0;34m(self, vectors, async_req, namespace, batch_size, show_progress, **kwargs)\u001b[0m\n\u001b[1;32m    141\u001b[0m             \u001b[0;32mreturn\u001b[0m \u001b[0mPineconeGrpcFuture\u001b[0m\u001b[0;34m(\u001b[0m\u001b[0mfuture\u001b[0m\u001b[0;34m)\u001b[0m\u001b[0;34m\u001b[0m\u001b[0;34m\u001b[0m\u001b[0m\n\u001b[1;32m    142\u001b[0m \u001b[0;34m\u001b[0m\u001b[0m\n\u001b[0;32m--> 143\u001b[0;31m         \u001b[0;32mif\u001b[0m \u001b[0mbatch_size\u001b[0m \u001b[0;32mis\u001b[0m \u001b[0;32mNone\u001b[0m\u001b[0;34m:\u001b[0m\u001b[0;34m\u001b[0m\u001b[0;34m\u001b[0m\u001b[0m\n\u001b[0m\u001b[1;32m    144\u001b[0m             \u001b[0;32mreturn\u001b[0m \u001b[0mself\u001b[0m\u001b[0;34m.\u001b[0m\u001b[0m_upsert_batch\u001b[0m\u001b[0;34m(\u001b[0m\u001b[0mvectors\u001b[0m\u001b[0;34m,\u001b[0m \u001b[0mnamespace\u001b[0m\u001b[0;34m,\u001b[0m \u001b[0mtimeout\u001b[0m\u001b[0;34m=\u001b[0m\u001b[0mtimeout\u001b[0m\u001b[0;34m,\u001b[0m \u001b[0;34m**\u001b[0m\u001b[0mkwargs\u001b[0m\u001b[0;34m)\u001b[0m\u001b[0;34m\u001b[0m\u001b[0;34m\u001b[0m\u001b[0m\n\u001b[1;32m    145\u001b[0m \u001b[0;34m\u001b[0m\u001b[0m\n",
      "\u001b[0;32m~/anaconda3/lib/python3.11/site-packages/pinecone/grpc/index_grpc.py\u001b[0m in \u001b[0;36m_upsert_batch\u001b[0;34m(self, vectors, namespace, timeout, **kwargs)\u001b[0m\n\u001b[1;32m    163\u001b[0m             \u001b[0;31m# we can't use here pbar.n for the case show_progress=False\u001b[0m\u001b[0;34m\u001b[0m\u001b[0;34m\u001b[0m\u001b[0m\n\u001b[1;32m    164\u001b[0m             \u001b[0mtotal_upserted\u001b[0m \u001b[0;34m+=\u001b[0m \u001b[0mbatch_result\u001b[0m\u001b[0;34m.\u001b[0m\u001b[0mupserted_count\u001b[0m\u001b[0;34m\u001b[0m\u001b[0;34m\u001b[0m\u001b[0m\n\u001b[0;32m--> 165\u001b[0;31m \u001b[0;34m\u001b[0m\u001b[0m\n\u001b[0m\u001b[1;32m    166\u001b[0m         \u001b[0;32mreturn\u001b[0m \u001b[0mUpsertResponse\u001b[0m\u001b[0;34m(\u001b[0m\u001b[0mupserted_count\u001b[0m\u001b[0;34m=\u001b[0m\u001b[0mtotal_upserted\u001b[0m\u001b[0;34m)\u001b[0m\u001b[0;34m\u001b[0m\u001b[0;34m\u001b[0m\u001b[0m\n\u001b[1;32m    167\u001b[0m \u001b[0;34m\u001b[0m\u001b[0m\n",
      "\u001b[0;32m~/anaconda3/lib/python3.11/site-packages/pinecone/grpc/grpc_runner.py\u001b[0m in \u001b[0;36mrun\u001b[0;34m(self, func, request, timeout, metadata, credentials, wait_for_ready, compression)\u001b[0m\n\u001b[1;32m     52\u001b[0m                 \u001b[0;32mraise\u001b[0m \u001b[0mPineconeException\u001b[0m\u001b[0;34m(\u001b[0m\u001b[0me\u001b[0m\u001b[0;34m.\u001b[0m\u001b[0m_state\u001b[0m\u001b[0;34m.\u001b[0m\u001b[0mdebug_error_string\u001b[0m\u001b[0;34m)\u001b[0m \u001b[0;32mfrom\u001b[0m \u001b[0me\u001b[0m\u001b[0;34m\u001b[0m\u001b[0;34m\u001b[0m\u001b[0m\n\u001b[1;32m     53\u001b[0m \u001b[0;34m\u001b[0m\u001b[0m\n\u001b[0;32m---> 54\u001b[0;31m         \u001b[0;32mreturn\u001b[0m \u001b[0mwrapped\u001b[0m\u001b[0;34m(\u001b[0m\u001b[0;34m)\u001b[0m\u001b[0;34m\u001b[0m\u001b[0;34m\u001b[0m\u001b[0m\n\u001b[0m\u001b[1;32m     55\u001b[0m \u001b[0;34m\u001b[0m\u001b[0m\n\u001b[1;32m     56\u001b[0m     async def run_asyncio(\n",
      "\u001b[0;32m~/anaconda3/lib/python3.11/site-packages/pinecone/grpc/grpc_runner.py\u001b[0m in \u001b[0;36mwrapped\u001b[0;34m()\u001b[0m\n\u001b[1;32m     50\u001b[0m                 )\n\u001b[1;32m     51\u001b[0m             \u001b[0;32mexcept\u001b[0m \u001b[0m_InactiveRpcError\u001b[0m \u001b[0;32mas\u001b[0m \u001b[0me\u001b[0m\u001b[0;34m:\u001b[0m\u001b[0;34m\u001b[0m\u001b[0;34m\u001b[0m\u001b[0m\n\u001b[0;32m---> 52\u001b[0;31m                 \u001b[0;32mraise\u001b[0m \u001b[0mPineconeException\u001b[0m\u001b[0;34m(\u001b[0m\u001b[0me\u001b[0m\u001b[0;34m.\u001b[0m\u001b[0m_state\u001b[0m\u001b[0;34m.\u001b[0m\u001b[0mdebug_error_string\u001b[0m\u001b[0;34m)\u001b[0m \u001b[0;32mfrom\u001b[0m \u001b[0me\u001b[0m\u001b[0;34m\u001b[0m\u001b[0;34m\u001b[0m\u001b[0m\n\u001b[0m\u001b[1;32m     53\u001b[0m \u001b[0;34m\u001b[0m\u001b[0m\n\u001b[1;32m     54\u001b[0m         \u001b[0;32mreturn\u001b[0m \u001b[0mwrapped\u001b[0m\u001b[0;34m(\u001b[0m\u001b[0;34m)\u001b[0m\u001b[0;34m\u001b[0m\u001b[0;34m\u001b[0m\u001b[0m\n",
      "\u001b[0;31mPineconeException\u001b[0m: UNKNOWN:Error received from peer  {grpc_message:\"Error, message length too large: found 22757507 bytes, the limit is: 4194304 bytes\", grpc_status:11, created_time:\"2025-02-07T02:32:17.995844+00:00\"}"
     ]
    }
   ],
   "source": [
    "records = []\n",
    "for d, e in zip(data, all_embeddings):\n",
    "    records.append({\n",
    "        \"id\": d['id'],\n",
    "        \"values\": e['values'],\n",
    "        \"metadata\": {'text': d['text']}\n",
    "    })\n",
    "\n",
    "# Upsert the records into the index\n",
    "index.upsert(\n",
    "    vectors=records,\n",
    "    namespace=\"example-namespace\"\n",
    ")\n"
   ]
  },
  {
   "cell_type": "code",
   "execution_count": null,
   "metadata": {},
   "outputs": [],
   "source": []
  },
  {
   "cell_type": "code",
   "execution_count": null,
   "metadata": {},
   "outputs": [],
   "source": [
    "\n",
    "\n",
    "data = df.to_dict(orient=\"records\")\n",
    "\n",
    "# get embeddings\n",
    "embeddings = pc.inference.embed(\n",
    "    model=\"multilingual-e5-large\",\n",
    "    inputs=[d['text'] for d in data],\n",
    "    parameters={\"input_type\": \"passage\", \"truncate\": \"END\"}\n",
    ")\n",
    "\n"
   ]
  },
  {
   "cell_type": "code",
   "execution_count": 3,
   "metadata": {},
   "outputs": [
    {
     "ename": "NotFoundException",
     "evalue": "(404)\nReason: Not Found\nHTTP response headers: HTTPHeaderDict({'content-type': 'text/plain; charset=utf-8', 'access-control-allow-origin': '*', 'vary': 'origin,access-control-request-method,access-control-request-headers', 'access-control-expose-headers': '*', 'x-pinecone-api-version': '2024-07', 'X-Cloud-Trace-Context': '2597340bf492bdd8d5a91e507a12939a', 'Date': 'Fri, 07 Feb 2025 01:59:43 GMT', 'Server': 'Google Frontend', 'Content-Length': '106', 'Via': '1.1 google', 'Alt-Svc': 'h3=\":443\"; ma=2592000,h3-29=\":443\"; ma=2592000'})\nHTTP response body: {\"error\":{\"code\":\"NOT_FOUND\",\"message\":\"Resource cloud: gcp region: europe-west1 not found\"},\"status\":404}\n",
     "output_type": "error",
     "traceback": [
      "\u001b[0;31m---------------------------------------------------------------------------\u001b[0m",
      "\u001b[0;31mNotFoundException\u001b[0m                         Traceback (most recent call last)",
      "\u001b[0;32m/var/folders/07/g_yq2xsn0mvb4xnyvr18jjmw0000gn/T/ipykernel_11988/3274023829.py\u001b[0m in \u001b[0;36m<cell line: 0>\u001b[0;34m()\u001b[0m\n\u001b[1;32m      8\u001b[0m \u001b[0;32mif\u001b[0m \u001b[0;34m'product-codes-index'\u001b[0m \u001b[0;32mnot\u001b[0m \u001b[0;32min\u001b[0m \u001b[0mpc\u001b[0m\u001b[0;34m.\u001b[0m\u001b[0mlist_indexes\u001b[0m\u001b[0;34m(\u001b[0m\u001b[0;34m)\u001b[0m\u001b[0;34m.\u001b[0m\u001b[0mnames\u001b[0m\u001b[0;34m(\u001b[0m\u001b[0;34m)\u001b[0m\u001b[0;34m:\u001b[0m\u001b[0;34m\u001b[0m\u001b[0;34m\u001b[0m\u001b[0m\n\u001b[1;32m      9\u001b[0m     \u001b[0;31m# Create an index\u001b[0m\u001b[0;34m\u001b[0m\u001b[0;34m\u001b[0m\u001b[0m\n\u001b[0;32m---> 10\u001b[0;31m     pc.create_index(\n\u001b[0m\u001b[1;32m     11\u001b[0m         \u001b[0mname\u001b[0m\u001b[0;34m=\u001b[0m\u001b[0;34m'product-codes-index'\u001b[0m\u001b[0;34m,\u001b[0m\u001b[0;34m\u001b[0m\u001b[0;34m\u001b[0m\u001b[0m\n\u001b[1;32m     12\u001b[0m         \u001b[0mdimension\u001b[0m\u001b[0;34m=\u001b[0m\u001b[0;36m1536\u001b[0m\u001b[0;34m,\u001b[0m  \u001b[0;31m# Adjust based on your embedding model\u001b[0m\u001b[0;34m\u001b[0m\u001b[0;34m\u001b[0m\u001b[0m\n",
      "\u001b[0;32m~/anaconda3/lib/python3.11/site-packages/pinecone/control/pinecone.py\u001b[0m in \u001b[0;36mcreate_index\u001b[0;34m(self, name, dimension, spec, metric, timeout, deletion_protection)\u001b[0m\n\u001b[1;32m    371\u001b[0m             \u001b[0;32mraise\u001b[0m \u001b[0mTypeError\u001b[0m\u001b[0;34m(\u001b[0m\u001b[0;34m\"spec must be of type dict, ServerlessSpec, or PodSpec\"\u001b[0m\u001b[0;34m)\u001b[0m\u001b[0;34m\u001b[0m\u001b[0;34m\u001b[0m\u001b[0m\n\u001b[1;32m    372\u001b[0m \u001b[0;34m\u001b[0m\u001b[0m\n\u001b[0;32m--> 373\u001b[0;31m         api_instance.create_index(\n\u001b[0m\u001b[1;32m    374\u001b[0m             create_index_request=CreateIndexRequest(\n\u001b[1;32m    375\u001b[0m                 \u001b[0mname\u001b[0m\u001b[0;34m=\u001b[0m\u001b[0mname\u001b[0m\u001b[0;34m,\u001b[0m\u001b[0;34m\u001b[0m\u001b[0;34m\u001b[0m\u001b[0m\n",
      "\u001b[0;32m~/anaconda3/lib/python3.11/site-packages/pinecone/core/openapi/shared/api_client.py\u001b[0m in \u001b[0;36m__call__\u001b[0;34m(self, *args, **kwargs)\u001b[0m\n\u001b[1;32m    819\u001b[0m \u001b[0;34m\u001b[0m\u001b[0m\n\u001b[1;32m    820\u001b[0m         \"\"\"\n\u001b[0;32m--> 821\u001b[0;31m         \u001b[0;32mreturn\u001b[0m \u001b[0mself\u001b[0m\u001b[0;34m.\u001b[0m\u001b[0mcallable\u001b[0m\u001b[0;34m(\u001b[0m\u001b[0mself\u001b[0m\u001b[0;34m,\u001b[0m \u001b[0;34m*\u001b[0m\u001b[0margs\u001b[0m\u001b[0;34m,\u001b[0m \u001b[0;34m**\u001b[0m\u001b[0mkwargs\u001b[0m\u001b[0;34m)\u001b[0m\u001b[0;34m\u001b[0m\u001b[0;34m\u001b[0m\u001b[0m\n\u001b[0m\u001b[1;32m    822\u001b[0m \u001b[0;34m\u001b[0m\u001b[0m\n\u001b[1;32m    823\u001b[0m     \u001b[0;32mdef\u001b[0m \u001b[0mcall_with_http_info\u001b[0m\u001b[0;34m(\u001b[0m\u001b[0mself\u001b[0m\u001b[0;34m,\u001b[0m \u001b[0;34m**\u001b[0m\u001b[0mkwargs\u001b[0m\u001b[0;34m)\u001b[0m\u001b[0;34m:\u001b[0m\u001b[0;34m\u001b[0m\u001b[0;34m\u001b[0m\u001b[0m\n",
      "\u001b[0;32m~/anaconda3/lib/python3.11/site-packages/pinecone/core/openapi/control/api/manage_indexes_api.py\u001b[0m in \u001b[0;36m__create_index\u001b[0;34m(self, create_index_request, **kwargs)\u001b[0m\n\u001b[1;32m    271\u001b[0m             \u001b[0mkwargs\u001b[0m\u001b[0;34m[\u001b[0m\u001b[0;34m\"_host_index\"\u001b[0m\u001b[0;34m]\u001b[0m \u001b[0;34m=\u001b[0m \u001b[0mkwargs\u001b[0m\u001b[0;34m.\u001b[0m\u001b[0mget\u001b[0m\u001b[0;34m(\u001b[0m\u001b[0;34m\"_host_index\"\u001b[0m\u001b[0;34m)\u001b[0m\u001b[0;34m\u001b[0m\u001b[0;34m\u001b[0m\u001b[0m\n\u001b[1;32m    272\u001b[0m             \u001b[0mkwargs\u001b[0m\u001b[0;34m[\u001b[0m\u001b[0;34m\"create_index_request\"\u001b[0m\u001b[0;34m]\u001b[0m \u001b[0;34m=\u001b[0m \u001b[0mcreate_index_request\u001b[0m\u001b[0;34m\u001b[0m\u001b[0;34m\u001b[0m\u001b[0m\n\u001b[0;32m--> 273\u001b[0;31m             \u001b[0;32mreturn\u001b[0m \u001b[0mself\u001b[0m\u001b[0;34m.\u001b[0m\u001b[0mcall_with_http_info\u001b[0m\u001b[0;34m(\u001b[0m\u001b[0;34m**\u001b[0m\u001b[0mkwargs\u001b[0m\u001b[0;34m)\u001b[0m\u001b[0;34m\u001b[0m\u001b[0;34m\u001b[0m\u001b[0m\n\u001b[0m\u001b[1;32m    274\u001b[0m \u001b[0;34m\u001b[0m\u001b[0m\n\u001b[1;32m    275\u001b[0m         self.create_index = _Endpoint(\n",
      "\u001b[0;32m~/anaconda3/lib/python3.11/site-packages/pinecone/core/openapi/shared/api_client.py\u001b[0m in \u001b[0;36mcall_with_http_info\u001b[0;34m(self, **kwargs)\u001b[0m\n\u001b[1;32m    877\u001b[0m             \u001b[0mparams\u001b[0m\u001b[0;34m[\u001b[0m\u001b[0;34m\"header\"\u001b[0m\u001b[0;34m]\u001b[0m\u001b[0;34m[\u001b[0m\u001b[0;34m\"Content-Type\"\u001b[0m\u001b[0;34m]\u001b[0m \u001b[0;34m=\u001b[0m \u001b[0mheader_list\u001b[0m\u001b[0;34m\u001b[0m\u001b[0;34m\u001b[0m\u001b[0m\n\u001b[1;32m    878\u001b[0m \u001b[0;34m\u001b[0m\u001b[0m\n\u001b[0;32m--> 879\u001b[0;31m         return self.api_client.call_api(\n\u001b[0m\u001b[1;32m    880\u001b[0m             \u001b[0mself\u001b[0m\u001b[0;34m.\u001b[0m\u001b[0msettings\u001b[0m\u001b[0;34m[\u001b[0m\u001b[0;34m\"endpoint_path\"\u001b[0m\u001b[0;34m]\u001b[0m\u001b[0;34m,\u001b[0m\u001b[0;34m\u001b[0m\u001b[0;34m\u001b[0m\u001b[0m\n\u001b[1;32m    881\u001b[0m             \u001b[0mself\u001b[0m\u001b[0;34m.\u001b[0m\u001b[0msettings\u001b[0m\u001b[0;34m[\u001b[0m\u001b[0;34m\"http_method\"\u001b[0m\u001b[0;34m]\u001b[0m\u001b[0;34m,\u001b[0m\u001b[0;34m\u001b[0m\u001b[0;34m\u001b[0m\u001b[0m\n",
      "\u001b[0;32m~/anaconda3/lib/python3.11/site-packages/pinecone/core/openapi/shared/api_client.py\u001b[0m in \u001b[0;36mcall_api\u001b[0;34m(self, resource_path, method, path_params, query_params, header_params, body, post_params, files, response_type, auth_settings, async_req, async_threadpool_executor, _return_http_data_only, collection_formats, _preload_content, _request_timeout, _host, _check_type)\u001b[0m\n\u001b[1;32m    429\u001b[0m \u001b[0;34m\u001b[0m\u001b[0m\n\u001b[1;32m    430\u001b[0m         \u001b[0;32mif\u001b[0m \u001b[0;32mnot\u001b[0m \u001b[0masync_req\u001b[0m\u001b[0;34m:\u001b[0m\u001b[0;34m\u001b[0m\u001b[0;34m\u001b[0m\u001b[0m\n\u001b[0;32m--> 431\u001b[0;31m             return self.__call_api(\n\u001b[0m\u001b[1;32m    432\u001b[0m                 \u001b[0mresource_path\u001b[0m\u001b[0;34m,\u001b[0m\u001b[0;34m\u001b[0m\u001b[0;34m\u001b[0m\u001b[0m\n\u001b[1;32m    433\u001b[0m                 \u001b[0mmethod\u001b[0m\u001b[0;34m,\u001b[0m\u001b[0;34m\u001b[0m\u001b[0;34m\u001b[0m\u001b[0m\n",
      "\u001b[0;32m~/anaconda3/lib/python3.11/site-packages/pinecone/core/openapi/shared/api_client.py\u001b[0m in \u001b[0;36m__call_api\u001b[0;34m(self, resource_path, method, path_params, query_params, header_params, body, post_params, files, response_type, auth_settings, _return_http_data_only, collection_formats, _preload_content, _request_timeout, _host, _check_type)\u001b[0m\n\u001b[1;32m    214\u001b[0m         \u001b[0;32mexcept\u001b[0m \u001b[0mPineconeApiException\u001b[0m \u001b[0;32mas\u001b[0m \u001b[0me\u001b[0m\u001b[0;34m:\u001b[0m\u001b[0;34m\u001b[0m\u001b[0;34m\u001b[0m\u001b[0m\n\u001b[1;32m    215\u001b[0m             \u001b[0me\u001b[0m\u001b[0;34m.\u001b[0m\u001b[0mbody\u001b[0m \u001b[0;34m=\u001b[0m \u001b[0me\u001b[0m\u001b[0;34m.\u001b[0m\u001b[0mbody\u001b[0m\u001b[0;34m.\u001b[0m\u001b[0mdecode\u001b[0m\u001b[0;34m(\u001b[0m\u001b[0;34m\"utf-8\"\u001b[0m\u001b[0;34m)\u001b[0m\u001b[0;34m\u001b[0m\u001b[0;34m\u001b[0m\u001b[0m\n\u001b[0;32m--> 216\u001b[0;31m             \u001b[0;32mraise\u001b[0m \u001b[0me\u001b[0m\u001b[0;34m\u001b[0m\u001b[0;34m\u001b[0m\u001b[0m\n\u001b[0m\u001b[1;32m    217\u001b[0m \u001b[0;34m\u001b[0m\u001b[0m\n\u001b[1;32m    218\u001b[0m         \u001b[0mself\u001b[0m\u001b[0;34m.\u001b[0m\u001b[0mlast_response\u001b[0m \u001b[0;34m=\u001b[0m \u001b[0mresponse_data\u001b[0m\u001b[0;34m\u001b[0m\u001b[0;34m\u001b[0m\u001b[0m\n",
      "\u001b[0;32m~/anaconda3/lib/python3.11/site-packages/pinecone/core/openapi/shared/api_client.py\u001b[0m in \u001b[0;36m__call_api\u001b[0;34m(self, resource_path, method, path_params, query_params, header_params, body, post_params, files, response_type, auth_settings, _return_http_data_only, collection_formats, _preload_content, _request_timeout, _host, _check_type)\u001b[0m\n\u001b[1;32m    202\u001b[0m         \u001b[0;32mtry\u001b[0m\u001b[0;34m:\u001b[0m\u001b[0;34m\u001b[0m\u001b[0;34m\u001b[0m\u001b[0m\n\u001b[1;32m    203\u001b[0m             \u001b[0;31m# perform request and return response\u001b[0m\u001b[0;34m\u001b[0m\u001b[0;34m\u001b[0m\u001b[0m\n\u001b[0;32m--> 204\u001b[0;31m             response_data = self.request(\n\u001b[0m\u001b[1;32m    205\u001b[0m                 \u001b[0mmethod\u001b[0m\u001b[0;34m,\u001b[0m\u001b[0;34m\u001b[0m\u001b[0;34m\u001b[0m\u001b[0m\n\u001b[1;32m    206\u001b[0m                 \u001b[0murl\u001b[0m\u001b[0;34m,\u001b[0m\u001b[0;34m\u001b[0m\u001b[0;34m\u001b[0m\u001b[0m\n",
      "\u001b[0;32m~/anaconda3/lib/python3.11/site-packages/pinecone/core/openapi/shared/api_client.py\u001b[0m in \u001b[0;36mrequest\u001b[0;34m(self, method, url, query_params, headers, post_params, body, _preload_content, _request_timeout)\u001b[0m\n\u001b[1;32m    516\u001b[0m             )\n\u001b[1;32m    517\u001b[0m         \u001b[0;32melif\u001b[0m \u001b[0mmethod\u001b[0m \u001b[0;34m==\u001b[0m \u001b[0;34m\"POST\"\u001b[0m\u001b[0;34m:\u001b[0m\u001b[0;34m\u001b[0m\u001b[0;34m\u001b[0m\u001b[0m\n\u001b[0;32m--> 518\u001b[0;31m             return self.rest_client.POST(\n\u001b[0m\u001b[1;32m    519\u001b[0m                 \u001b[0murl\u001b[0m\u001b[0;34m,\u001b[0m\u001b[0;34m\u001b[0m\u001b[0;34m\u001b[0m\u001b[0m\n\u001b[1;32m    520\u001b[0m                 \u001b[0mquery_params\u001b[0m\u001b[0;34m=\u001b[0m\u001b[0mquery_params\u001b[0m\u001b[0;34m,\u001b[0m\u001b[0;34m\u001b[0m\u001b[0;34m\u001b[0m\u001b[0m\n",
      "\u001b[0;32m~/anaconda3/lib/python3.11/site-packages/pinecone/core/openapi/shared/rest.py\u001b[0m in \u001b[0;36mPOST\u001b[0;34m(self, url, headers, query_params, post_params, body, _preload_content, _request_timeout)\u001b[0m\n\u001b[1;32m    343\u001b[0m         \u001b[0m_request_timeout\u001b[0m\u001b[0;34m=\u001b[0m\u001b[0;32mNone\u001b[0m\u001b[0;34m,\u001b[0m\u001b[0;34m\u001b[0m\u001b[0;34m\u001b[0m\u001b[0m\n\u001b[1;32m    344\u001b[0m     ):\n\u001b[0;32m--> 345\u001b[0;31m         return self.request(\n\u001b[0m\u001b[1;32m    346\u001b[0m             \u001b[0;34m\"POST\"\u001b[0m\u001b[0;34m,\u001b[0m\u001b[0;34m\u001b[0m\u001b[0;34m\u001b[0m\u001b[0m\n\u001b[1;32m    347\u001b[0m             \u001b[0murl\u001b[0m\u001b[0;34m,\u001b[0m\u001b[0;34m\u001b[0m\u001b[0;34m\u001b[0m\u001b[0m\n",
      "\u001b[0;32m~/anaconda3/lib/python3.11/site-packages/pinecone/core/openapi/shared/rest.py\u001b[0m in \u001b[0;36mrequest\u001b[0;34m(self, method, url, query_params, headers, body, post_params, _preload_content, _request_timeout)\u001b[0m\n\u001b[1;32m    272\u001b[0m \u001b[0;34m\u001b[0m\u001b[0m\n\u001b[1;32m    273\u001b[0m             \u001b[0;32mif\u001b[0m \u001b[0mr\u001b[0m\u001b[0;34m.\u001b[0m\u001b[0mstatus\u001b[0m \u001b[0;34m==\u001b[0m \u001b[0;36m404\u001b[0m\u001b[0;34m:\u001b[0m\u001b[0;34m\u001b[0m\u001b[0;34m\u001b[0m\u001b[0m\n\u001b[0;32m--> 274\u001b[0;31m                 \u001b[0;32mraise\u001b[0m \u001b[0mNotFoundException\u001b[0m\u001b[0;34m(\u001b[0m\u001b[0mhttp_resp\u001b[0m\u001b[0;34m=\u001b[0m\u001b[0mr\u001b[0m\u001b[0;34m)\u001b[0m\u001b[0;34m\u001b[0m\u001b[0;34m\u001b[0m\u001b[0m\n\u001b[0m\u001b[1;32m    275\u001b[0m \u001b[0;34m\u001b[0m\u001b[0m\n\u001b[1;32m    276\u001b[0m             \u001b[0;32mif\u001b[0m \u001b[0;36m500\u001b[0m \u001b[0;34m<=\u001b[0m \u001b[0mr\u001b[0m\u001b[0;34m.\u001b[0m\u001b[0mstatus\u001b[0m \u001b[0;34m<=\u001b[0m \u001b[0;36m599\u001b[0m\u001b[0;34m:\u001b[0m\u001b[0;34m\u001b[0m\u001b[0;34m\u001b[0m\u001b[0m\n",
      "\u001b[0;31mNotFoundException\u001b[0m: (404)\nReason: Not Found\nHTTP response headers: HTTPHeaderDict({'content-type': 'text/plain; charset=utf-8', 'access-control-allow-origin': '*', 'vary': 'origin,access-control-request-method,access-control-request-headers', 'access-control-expose-headers': '*', 'x-pinecone-api-version': '2024-07', 'X-Cloud-Trace-Context': '2597340bf492bdd8d5a91e507a12939a', 'Date': 'Fri, 07 Feb 2025 01:59:43 GMT', 'Server': 'Google Frontend', 'Content-Length': '106', 'Via': '1.1 google', 'Alt-Svc': 'h3=\":443\"; ma=2592000,h3-29=\":443\"; ma=2592000'})\nHTTP response body: {\"error\":{\"code\":\"NOT_FOUND\",\"message\":\"Resource cloud: gcp region: europe-west1 not found\"},\"status\":404}\n"
     ]
    }
   ],
   "source": [
    "from pinecone import Pinecone, ServerlessSpec\n",
    "\n",
    "pc = Pinecone(\n",
    "    api_key=\"pcsk_ytxDk_UB2VfK6P7Nk5qAzj1kYyV9MYSWiZDKC7HMqvrWgCsQBaCUxZVdB9tUM2BXsWsYX\",  # Replace with your API key\n",
    ")\n",
    "\n",
    "# Check if the index already exists\n",
    "if 'product-codes-index' not in pc.list_indexes().names():\n",
    "    # Create an index\n",
    "    pc.create_index(\n",
    "        name='product-codes-index',\n",
    "        dimension=1536,  # Adjust based on your embedding model\n",
    "        metric='cosine',  # 'cosine', 'euclidean', or 'dotproduct'\n",
    "        spec=ServerlessSpec(\n",
    "            cloud='gcp',\n",
    "            region='europe-west1'  # UK region\n",
    "        )\n",
    "    )"
   ]
  },
  {
   "cell_type": "markdown",
   "metadata": {},
   "source": [
    "# Country codes"
   ]
  },
  {
   "cell_type": "code",
   "execution_count": 104,
   "metadata": {},
   "outputs": [],
   "source": [
    "\n",
    "# Initialize Pinecone with API key and serverless spec for UK region\n",
    "pc = Pinecone(\n",
    "    api_key=api_key,  # Replace with your API key\n",
    ")\n",
    "\n",
    "# Check if the index already exists\n",
    "if 'country-codes-index' not in pc.list_indexes().names():\n",
    "    # Create an index\n",
    "    pc.create_index(\n",
    "        name='country-codes-index',\n",
    "        dimension=1024,  # Adjust based on your embedding model\n",
    "        metric='cosine',  # 'cosine', 'euclidean', or 'dotproduct'\n",
    "        spec=ServerlessSpec(\n",
    "            cloud='aws', \n",
    "            region='us-east-1'\n",
    "        ) \n",
    "    )"
   ]
  },
  {
   "cell_type": "code",
   "execution_count": 107,
   "metadata": {},
   "outputs": [
    {
     "data": {
      "text/plain": [
       "Index(['country_code', 'country_name', 'country_iso2', 'country_iso3'], dtype='object')"
      ]
     },
     "execution_count": 107,
     "metadata": {},
     "output_type": "execute_result"
    }
   ],
   "source": [
    "df.columns"
   ]
  },
  {
   "cell_type": "code",
   "execution_count": 113,
   "metadata": {},
   "outputs": [
    {
     "name": "stderr",
     "output_type": "stream",
     "text": [
      "Processing Batches: 3it [00:04,  1.40s/it]\n"
     ]
    }
   ],
   "source": [
    "# Load and process the dataset\n",
    "df = pd.read_csv(\"data/country_codes_V202501.csv\") # Index(['country_code', 'country_name', 'country_iso2', 'country_iso3'], dtype='object')\n",
    "df = df.rename(columns={\"country_code\": \"id\", \"country_name\": \"text\"})\n",
    "\n",
    "# Ensure ID is a string (Pinecone requires string IDs)\n",
    "df[\"id\"] = pd.to_numeric(df[\"id\"], errors=\"coerce\").astype(\"Int64\").astype(str)\n",
    "\n",
    "# Convert text to string and drop missing values\n",
    "df[\"text\"] = df[\"text\"].astype(str)\n",
    "df = df.dropna(subset=[\"id\", \"text\"])\n",
    "\n",
    "# Convert to list of dicts for processing\n",
    "country_data = df.to_dict(orient=\"records\")\n",
    "\n",
    "BATCH_SIZE = 96\n",
    "\n",
    "# Function to process in batches\n",
    "def batch_generator(iterable, batch_size):\n",
    "    \"\"\"Yield successive batch_size chunks from iterable.\"\"\"\n",
    "    for i in range(0, len(iterable), batch_size):\n",
    "        yield iterable[i : i + batch_size]\n",
    "\n",
    "# Store all embeddings\n",
    "all_country_embeddings = []\n",
    "\n",
    "# Process embeddings in batches\n",
    "for batch in tqdm(batch_generator(country_data, BATCH_SIZE), desc=\"Processing Batches\"):\n",
    "    batch_texts = [d[\"text\"] for d in batch]\n",
    "\n",
    "    # Generate embeddings for the batch\n",
    "    batch_embeddings = pc.inference.embed(\n",
    "        model=\"multilingual-e5-large\",\n",
    "        inputs=batch_texts,\n",
    "        parameters={\"input_type\": \"passage\", \"truncate\": \"END\"}\n",
    "    )\n",
    "\n",
    "    # Append results\n",
    "    all_country_embeddings.extend(batch_embeddings)\n",
    "\n"
   ]
  },
  {
   "cell_type": "code",
   "execution_count": 114,
   "metadata": {},
   "outputs": [],
   "source": [
    "country_index = pc.Index(\"country-codes-index\")"
   ]
  },
  {
   "cell_type": "code",
   "execution_count": 124,
   "metadata": {},
   "outputs": [
    {
     "name": "stdout",
     "output_type": "stream",
     "text": [
      "Upsert completed for 238 records.\n"
     ]
    }
   ],
   "source": [
    "BATCH_SIZE = 96\n",
    "\n",
    "for start_idx in range(0, len(country_data), BATCH_SIZE):\n",
    "    end_idx = min(start_idx + BATCH_SIZE, len(country_data))\n",
    "    \n",
    "    batch_data = country_data[start_idx:end_idx]\n",
    "    batch_embeddings = [e.values for e in all_country_embeddings[start_idx:end_idx]]  # Extract float lists\n",
    "\n",
    "    # Prepare the upsert format (ID, vector, metadata)\n",
    "    upsert_data = [\n",
    "        (d[\"id\"], emb, {\"description\": d[\"text\"]})  # (id, vector, metadata)\n",
    "        for d, emb in zip(batch_data, batch_embeddings)\n",
    "    ]\n",
    "\n",
    "    # Perform upsert\n",
    "    country_index.upsert(vectors=upsert_data)\n",
    "\n",
    "print(f\"Upsert completed for {len(country_data)} records.\")"
   ]
  },
  {
   "cell_type": "code",
   "execution_count": 121,
   "metadata": {},
   "outputs": [],
   "source": [
    "upsert_data = [\n",
    "    (d[\"id\"], emb, {\"description\": d[\"text\"]})  # (id, vector, metadata)\n",
    "    for d, emb in zip(batch_data, batch_embeddings)\n",
    "]\n"
   ]
  },
  {
   "cell_type": "code",
   "execution_count": 122,
   "metadata": {},
   "outputs": [
    {
     "data": {
      "text/plain": [
       "[('4',\n",
       "  dict_values(['4', 'Afghanistan', 'AF', 'AFG']),\n",
       "  {'description': 'Afghanistan'}),\n",
       " ('8', dict_values(['8', 'Albania', 'AL', 'ALB']), {'description': 'Albania'}),\n",
       " ('12',\n",
       "  dict_values(['12', 'Algeria', 'DZ', 'DZA']),\n",
       "  {'description': 'Algeria'}),\n",
       " ('16',\n",
       "  dict_values(['16', 'American Samoa', 'AS', 'ASM']),\n",
       "  {'description': 'American Samoa'}),\n",
       " ('20',\n",
       "  dict_values(['20', 'Andorra', 'AD', 'AND']),\n",
       "  {'description': 'Andorra'}),\n",
       " ('24', dict_values(['24', 'Angola', 'AO', 'AGO']), {'description': 'Angola'}),\n",
       " ('28',\n",
       "  dict_values(['28', 'Antigua and Barbuda', 'AG', 'ATG']),\n",
       "  {'description': 'Antigua and Barbuda'}),\n",
       " ('31',\n",
       "  dict_values(['31', 'Azerbaijan', 'AZ', 'AZE']),\n",
       "  {'description': 'Azerbaijan'}),\n",
       " ('32',\n",
       "  dict_values(['32', 'Argentina', 'AR', 'ARG']),\n",
       "  {'description': 'Argentina'}),\n",
       " ('36',\n",
       "  dict_values(['36', 'Australia', 'AU', 'AUS']),\n",
       "  {'description': 'Australia'}),\n",
       " ('40',\n",
       "  dict_values(['40', 'Austria', 'AT', 'AUT']),\n",
       "  {'description': 'Austria'}),\n",
       " ('44',\n",
       "  dict_values(['44', 'Bahamas', 'BS', 'BHS']),\n",
       "  {'description': 'Bahamas'}),\n",
       " ('48',\n",
       "  dict_values(['48', 'Bahrain', 'BH', 'BHR']),\n",
       "  {'description': 'Bahrain'}),\n",
       " ('50',\n",
       "  dict_values(['50', 'Bangladesh', 'BD', 'BGD']),\n",
       "  {'description': 'Bangladesh'}),\n",
       " ('51',\n",
       "  dict_values(['51', 'Armenia', 'AM', 'ARM']),\n",
       "  {'description': 'Armenia'}),\n",
       " ('52',\n",
       "  dict_values(['52', 'Barbados', 'BB', 'BRB']),\n",
       "  {'description': 'Barbados'}),\n",
       " ('56',\n",
       "  dict_values(['56', 'Belgium', 'BE', 'BEL']),\n",
       "  {'description': 'Belgium'}),\n",
       " ('58',\n",
       "  dict_values(['58', 'Belgium-Luxembourg (...1998)', 'BE', 'BEL']),\n",
       "  {'description': 'Belgium-Luxembourg (...1998)'}),\n",
       " ('60',\n",
       "  dict_values(['60', 'Bermuda', 'BM', 'BMU']),\n",
       "  {'description': 'Bermuda'}),\n",
       " ('64', dict_values(['64', 'Bhutan', 'BT', 'BTN']), {'description': 'Bhutan'}),\n",
       " ('68',\n",
       "  dict_values(['68', 'Bolivia (Plurinational State of)', 'BO', 'BOL']),\n",
       "  {'description': 'Bolivia (Plurinational State of)'}),\n",
       " ('70',\n",
       "  dict_values(['70', 'Bosnia Herzegovina', 'BA', 'BIH']),\n",
       "  {'description': 'Bosnia Herzegovina'}),\n",
       " ('72',\n",
       "  dict_values(['72', 'Botswana', 'BW', 'BWA']),\n",
       "  {'description': 'Botswana'}),\n",
       " ('76', dict_values(['76', 'Brazil', 'BR', 'BRA']), {'description': 'Brazil'}),\n",
       " ('84', dict_values(['84', 'Belize', 'BZ', 'BLZ']), {'description': 'Belize'}),\n",
       " ('86',\n",
       "  dict_values(['86', 'Br. Indian Ocean Terr.', 'IO', 'IOT']),\n",
       "  {'description': 'Br. Indian Ocean Terr.'}),\n",
       " ('90',\n",
       "  dict_values(['90', 'Solomon Isds', 'SB', 'SLB']),\n",
       "  {'description': 'Solomon Isds'}),\n",
       " ('92',\n",
       "  dict_values(['92', 'Br. Virgin Isds', 'VG', 'VGB']),\n",
       "  {'description': 'Br. Virgin Isds'}),\n",
       " ('96',\n",
       "  dict_values(['96', 'Brunei Darussalam', 'BN', 'BRN']),\n",
       "  {'description': 'Brunei Darussalam'}),\n",
       " ('100',\n",
       "  dict_values(['100', 'Bulgaria', 'BG', 'BGR']),\n",
       "  {'description': 'Bulgaria'}),\n",
       " ('104',\n",
       "  dict_values(['104', 'Myanmar', 'MM', 'MMR']),\n",
       "  {'description': 'Myanmar'}),\n",
       " ('108',\n",
       "  dict_values(['108', 'Burundi', 'BI', 'BDI']),\n",
       "  {'description': 'Burundi'}),\n",
       " ('112',\n",
       "  dict_values(['112', 'Belarus', 'BY', 'BLR']),\n",
       "  {'description': 'Belarus'}),\n",
       " ('116',\n",
       "  dict_values(['116', 'Cambodia', 'KH', 'KHM']),\n",
       "  {'description': 'Cambodia'}),\n",
       " ('120',\n",
       "  dict_values(['120', 'Cameroon', 'CM', 'CMR']),\n",
       "  {'description': 'Cameroon'}),\n",
       " ('124',\n",
       "  dict_values(['124', 'Canada', 'CA', 'CAN']),\n",
       "  {'description': 'Canada'}),\n",
       " ('132',\n",
       "  dict_values(['132', 'Cabo Verde', 'CV', 'CPV']),\n",
       "  {'description': 'Cabo Verde'}),\n",
       " ('136',\n",
       "  dict_values(['136', 'Cayman Isds', 'KY', 'CYM']),\n",
       "  {'description': 'Cayman Isds'}),\n",
       " ('140',\n",
       "  dict_values(['140', 'Central African Rep.', 'CF', 'CAF']),\n",
       "  {'description': 'Central African Rep.'}),\n",
       " ('144',\n",
       "  dict_values(['144', 'Sri Lanka', 'LK', 'LKA']),\n",
       "  {'description': 'Sri Lanka'}),\n",
       " ('148', dict_values(['148', 'Chad', 'TD', 'TCD']), {'description': 'Chad'}),\n",
       " ('152', dict_values(['152', 'Chile', 'CL', 'CHL']), {'description': 'Chile'}),\n",
       " ('156', dict_values(['156', 'China', 'CN', 'CHN']), {'description': 'China'}),\n",
       " ('162',\n",
       "  dict_values(['162', 'Christmas Isds', 'CX', 'CXR']),\n",
       "  {'description': 'Christmas Isds'}),\n",
       " ('166',\n",
       "  dict_values(['166', 'Cocos Isds', 'CC', 'CCK']),\n",
       "  {'description': 'Cocos Isds'}),\n",
       " ('170',\n",
       "  dict_values(['170', 'Colombia', 'CO', 'COL']),\n",
       "  {'description': 'Colombia'}),\n",
       " ('174',\n",
       "  dict_values(['174', 'Comoros', 'KM', 'COM']),\n",
       "  {'description': 'Comoros'}),\n",
       " ('175',\n",
       "  dict_values(['175', 'Mayotte (Overseas France)', 'YT', 'MYT']),\n",
       "  {'description': 'Mayotte (Overseas France)'}),\n",
       " ('178', dict_values(['178', 'Congo', 'CG', 'COG']), {'description': 'Congo'}),\n",
       " ('180',\n",
       "  dict_values(['180', 'Dem. Rep. of the Congo', 'CD', 'COD']),\n",
       "  {'description': 'Dem. Rep. of the Congo'}),\n",
       " ('184',\n",
       "  dict_values(['184', 'Cook Isds', 'CK', 'COK']),\n",
       "  {'description': 'Cook Isds'}),\n",
       " ('188',\n",
       "  dict_values(['188', 'Costa Rica', 'CR', 'CRI']),\n",
       "  {'description': 'Costa Rica'}),\n",
       " ('191',\n",
       "  dict_values(['191', 'Croatia', 'HR', 'HRV']),\n",
       "  {'description': 'Croatia'}),\n",
       " ('192', dict_values(['192', 'Cuba', 'CU', 'CUB']), {'description': 'Cuba'}),\n",
       " ('196',\n",
       "  dict_values(['196', 'Cyprus', 'CY', 'CYP']),\n",
       "  {'description': 'Cyprus'}),\n",
       " ('200',\n",
       "  dict_values(['200', 'Czechoslovakia (...1992)', 'CS', 'CSK']),\n",
       "  {'description': 'Czechoslovakia (...1992)'}),\n",
       " ('203',\n",
       "  dict_values(['203', 'Czechia', 'CZ', 'CZE']),\n",
       "  {'description': 'Czechia'}),\n",
       " ('204', dict_values(['204', 'Benin', 'BJ', 'BEN']), {'description': 'Benin'}),\n",
       " ('208',\n",
       "  dict_values(['208', 'Denmark', 'DK', 'DNK']),\n",
       "  {'description': 'Denmark'}),\n",
       " ('212',\n",
       "  dict_values(['212', 'Dominica', 'DM', 'DMA']),\n",
       "  {'description': 'Dominica'}),\n",
       " ('214',\n",
       "  dict_values(['214', 'Dominican Rep.', 'DO', 'DOM']),\n",
       "  {'description': 'Dominican Rep.'}),\n",
       " ('218',\n",
       "  dict_values(['218', 'Ecuador', 'EC', 'ECU']),\n",
       "  {'description': 'Ecuador'}),\n",
       " ('222',\n",
       "  dict_values(['222', 'El Salvador', 'SV', 'SLV']),\n",
       "  {'description': 'El Salvador'}),\n",
       " ('226',\n",
       "  dict_values(['226', 'Equatorial Guinea', 'GQ', 'GNQ']),\n",
       "  {'description': 'Equatorial Guinea'}),\n",
       " ('231',\n",
       "  dict_values(['231', 'Ethiopia', 'ET', 'ETH']),\n",
       "  {'description': 'Ethiopia'}),\n",
       " ('232',\n",
       "  dict_values(['232', 'Eritrea', 'ER', 'ERI']),\n",
       "  {'description': 'Eritrea'}),\n",
       " ('233',\n",
       "  dict_values(['233', 'Estonia', 'EE', 'EST']),\n",
       "  {'description': 'Estonia'}),\n",
       " ('238',\n",
       "  dict_values(['238', 'Falkland Isds (Malvinas)', 'FK', 'FLK']),\n",
       "  {'description': 'Falkland Isds (Malvinas)'}),\n",
       " ('242', dict_values(['242', 'Fiji', 'FJ', 'FJI']), {'description': 'Fiji'}),\n",
       " ('246',\n",
       "  dict_values(['246', 'Finland', 'FI', 'FIN']),\n",
       "  {'description': 'Finland'}),\n",
       " ('251',\n",
       "  dict_values(['251', 'France', 'FR', 'FRA']),\n",
       "  {'description': 'France'}),\n",
       " ('258',\n",
       "  dict_values(['258', 'French Polynesia', 'PF', 'PYF']),\n",
       "  {'description': 'French Polynesia'}),\n",
       " ('260',\n",
       "  dict_values(['260', 'Fr. South Antarctic Terr.', 'TF', 'ATF']),\n",
       "  {'description': 'Fr. South Antarctic Terr.'}),\n",
       " ('262',\n",
       "  dict_values(['262', 'Djibouti', 'DJ', 'DJI']),\n",
       "  {'description': 'Djibouti'}),\n",
       " ('266', dict_values(['266', 'Gabon', 'GA', 'GAB']), {'description': 'Gabon'}),\n",
       " ('268',\n",
       "  dict_values(['268', 'Georgia', 'GE', 'GEO']),\n",
       "  {'description': 'Georgia'}),\n",
       " ('270',\n",
       "  dict_values(['270', 'Gambia', 'GM', 'GMB']),\n",
       "  {'description': 'Gambia'}),\n",
       " ('275',\n",
       "  dict_values(['275', 'State of Palestine', 'PS', 'PSE']),\n",
       "  {'description': 'State of Palestine'}),\n",
       " ('276',\n",
       "  dict_values(['276', 'Germany', 'DE', 'DEU']),\n",
       "  {'description': 'Germany'}),\n",
       " ('278',\n",
       "  dict_values(['278', 'Dem. Rep. of Germany (...1990)', 'DD', 'DDR']),\n",
       "  {'description': 'Dem. Rep. of Germany (...1990)'}),\n",
       " ('280',\n",
       "  dict_values(['280', 'Fed. Rep. of Germany (...1990)', 'DE', 'DEU']),\n",
       "  {'description': 'Fed. Rep. of Germany (...1990)'}),\n",
       " ('288', dict_values(['288', 'Ghana', 'GH', 'GHA']), {'description': 'Ghana'}),\n",
       " ('292',\n",
       "  dict_values(['292', 'Gibraltar', 'GI', 'GIB']),\n",
       "  {'description': 'Gibraltar'}),\n",
       " ('296',\n",
       "  dict_values(['296', 'Kiribati', 'KI', 'KIR']),\n",
       "  {'description': 'Kiribati'}),\n",
       " ('300',\n",
       "  dict_values(['300', 'Greece', 'GR', 'GRC']),\n",
       "  {'description': 'Greece'}),\n",
       " ('304',\n",
       "  dict_values(['304', 'Greenland', 'GL', 'GRL']),\n",
       "  {'description': 'Greenland'}),\n",
       " ('308',\n",
       "  dict_values(['308', 'Grenada', 'GD', 'GRD']),\n",
       "  {'description': 'Grenada'}),\n",
       " ('316', dict_values(['316', 'Guam', 'GU', 'GUM']), {'description': 'Guam'}),\n",
       " ('320',\n",
       "  dict_values(['320', 'Guatemala', 'GT', 'GTM']),\n",
       "  {'description': 'Guatemala'}),\n",
       " ('324',\n",
       "  dict_values(['324', 'Guinea', 'GN', 'GIN']),\n",
       "  {'description': 'Guinea'}),\n",
       " ('328',\n",
       "  dict_values(['328', 'Guyana', 'GY', 'GUY']),\n",
       "  {'description': 'Guyana'}),\n",
       " ('332', dict_values(['332', 'Haiti', 'HT', 'HTI']), {'description': 'Haiti'}),\n",
       " ('340',\n",
       "  dict_values(['340', 'Honduras', 'HN', 'HND']),\n",
       "  {'description': 'Honduras'}),\n",
       " ('344',\n",
       "  dict_values(['344', 'China, Hong Kong SAR', 'HK', 'HKG']),\n",
       "  {'description': 'China, Hong Kong SAR'}),\n",
       " ('348',\n",
       "  dict_values(['348', 'Hungary', 'HU', 'HUN']),\n",
       "  {'description': 'Hungary'}),\n",
       " ('352',\n",
       "  dict_values(['352', 'Iceland', 'IS', 'ISL']),\n",
       "  {'description': 'Iceland'})]"
      ]
     },
     "execution_count": 122,
     "metadata": {},
     "output_type": "execute_result"
    }
   ],
   "source": [
    "upsert_data"
   ]
  },
  {
   "cell_type": "code",
   "execution_count": 127,
   "metadata": {},
   "outputs": [],
   "source": [
    "import eco_style\n",
    "import json"
   ]
  },
  {
   "cell_type": "code",
   "execution_count": 128,
   "metadata": {},
   "outputs": [
    {
     "data": {
      "text/plain": [
       "'{\"config\": {\"background\": \"#122B39\", \"font\": \"Circular Std\", \"title\": {\"color\": \"#b4c8d8\", \"fontSize\": 14, \"fontWeight\": 400}, \"mark\": {\"line\": {\"interpolate\": \"monotone\"}}, \"view\": {\"stroke\": \"transparent\", \"width\": 400, \"height\": 300}, \"range\": {\"category\": [\"#36B7B4\", \"#E6224B\", \"#F4C245\", \"#0063AF\", \"#00A767\", \"#179FDB\", \"#EB5C2E\"], \"diverging\": [\"#E6224B\", \"#E54753\", \"#C9C9C9\", \"#179FDB\", \"#122B39\"], \"heatmap\": [\"#C9C9C9\", \"#179FDB\", \"#0063AF\", \"#122B39\"], \"ordinal\": [\"#00A767\", \"#36B7B4\", \"#179FDB\", \"#0063AF\", \"#243B5A\"]}, \"axisX\": {\"domainColor\": \"#b4c8d8\", \"domainOpacity\": 0.5, \"grid\": false, \"labelAngle\": 0, \"labelColor\": \"#b4c8d8\", \"labelOpacity\": 0.7, \"orient\": \"bottom\", \"tickColor\": \"#b4c8d8\", \"tickCount\": 10, \"tickOpacity\": 0.5, \"title\": \"\", \"titleAlign\": \"center\", \"titleAnchor\": \"middle\", \"titleColor\": \"#b4c8d8\", \"titleFontSize\": 12, \"titleOpacity\": 0.8, \"titleX\": 207, \"titleY\": -15}, \"axisY\": {\"domainColor\": \"#b4c8d8\", \"domainOpacity\": 0.5, \"format\": \".0f\", \"gridColor\": \"#b4c8d8\", \"gridDash\": [1, 5], \"gridOpacity\": 0.5, \"labelColor\": \"#b4c8d8\", \"labelOpacity\": 0.7, \"labelPadding\": 5, \"tickColor\": \"#b4c8d8\", \"tickCount\": 8, \"tickOpacity\": 0.5, \"ticks\": false, \"title\": \"FAO price index\", \"titleAlign\": \"left\", \"titleAngle\": 0, \"titleBaseline\": \"bottom\", \"titleColor\": \"#b4c8d8\", \"titleFontSize\": 12, \"titleOpacity\": 0.8, \"titleX\": 0, \"titleY\": -7}}}'"
      ]
     },
     "execution_count": 128,
     "metadata": {},
     "output_type": "execute_result"
    }
   ],
   "source": [
    "json.dumps(eco_style.dark())"
   ]
  }
 ],
 "metadata": {
  "kernelspec": {
   "display_name": "base",
   "language": "python",
   "name": "python3"
  },
  "language_info": {
   "codemirror_mode": {
    "name": "ipython",
    "version": 3
   },
   "file_extension": ".py",
   "mimetype": "text/x-python",
   "name": "python",
   "nbconvert_exporter": "python",
   "pygments_lexer": "ipython3",
   "version": "3.11.4"
  }
 },
 "nbformat": 4,
 "nbformat_minor": 2
}

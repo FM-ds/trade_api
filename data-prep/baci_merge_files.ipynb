{
 "cells": [
  {
   "cell_type": "code",
   "execution_count": 2,
   "metadata": {},
   "outputs": [],
   "source": [
    "import pandas as pd"
   ]
  },
  {
   "cell_type": "markdown",
   "metadata": {},
   "source": [
    "# Prepping the BACI table"
   ]
  },
  {
   "cell_type": "code",
   "execution_count": 3,
   "metadata": {},
   "outputs": [],
   "source": [
    "dfs = {}\n",
    "\n",
    "for year in range(2017, 2023):\n",
    "    file_path = f'data/BACI_HS17_Y{year}_V202501.csv'\n",
    "    dfs[year] = pd.read_csv(file_path)"
   ]
  },
  {
   "cell_type": "code",
   "execution_count": 4,
   "metadata": {},
   "outputs": [],
   "source": [
    "all_data = pd.concat(dfs.values(), ignore_index=True)"
   ]
  },
  {
   "cell_type": "code",
   "execution_count": 5,
   "metadata": {},
   "outputs": [],
   "source": [
    "# all_data.columns = ['Year', 'Product category', 'Exporter', 'Importer', 'Value of trade flow (in thousands current USD)', 'Quantity (in metric tons)']\n",
    "all_data.columns = ['year', 'product_code', 'exporter', 'importer', 'value', 'quantity']"
   ]
  },
  {
   "cell_type": "code",
   "execution_count": null,
   "metadata": {},
   "outputs": [],
   "source": [
    "all_data.to_csv('all_trade.csv', index=False)"
   ]
  },
  {
   "cell_type": "markdown",
   "metadata": {},
   "source": [
    "# Prepping the codes"
   ]
  },
  {
   "cell_type": "code",
   "execution_count": 12,
   "metadata": {},
   "outputs": [],
   "source": [
    "import json\n",
    "\n",
    "country_codes = pd.read_csv(\"data/country_codes_V202501.csv\")\n",
    "country_codes = country_codes[['country_code', 'country_name']]\n",
    "# dict lookup\n",
    "country_codes_to_names = dict(zip(country_codes['country_code'], country_codes['country_name']))\n",
    "country_codes_to_names\n",
    "\n",
    "with open(\"data/country_codes_to_names.json\", \"w\") as f:\n",
    "    json.dump(country_codes_to_names, f)\n",
    "\n",
    "product_codes = pd.read_csv(\"data/product_codes_HS17_V202501.csv\")\n",
    "product_codes = product_codes[['code', 'description']]\n",
    "product_codes_to_names = dict(zip(product_codes['code'], product_codes['description']))\n",
    "\n",
    "with open(\"data/product_codes_to_names.json\", \"w\") as f:\n",
    "    json.dump(product_codes_to_names, f)"
   ]
  },
  {
   "cell_type": "markdown",
   "metadata": {},
   "source": [
    "# The Lookups"
   ]
  },
  {
   "cell_type": "code",
   "execution_count": 28,
   "metadata": {},
   "outputs": [
    {
     "data": {
      "text/html": [
       "<div>\n",
       "<style scoped>\n",
       "    .dataframe tbody tr th:only-of-type {\n",
       "        vertical-align: middle;\n",
       "    }\n",
       "\n",
       "    .dataframe tbody tr th {\n",
       "        vertical-align: top;\n",
       "    }\n",
       "\n",
       "    .dataframe thead th {\n",
       "        text-align: right;\n",
       "    }\n",
       "</style>\n",
       "<table border=\"1\" class=\"dataframe\">\n",
       "  <thead>\n",
       "    <tr style=\"text-align: right;\">\n",
       "      <th></th>\n",
       "      <th>code</th>\n",
       "      <th>description</th>\n",
       "    </tr>\n",
       "  </thead>\n",
       "  <tbody>\n",
       "    <tr>\n",
       "      <th>0</th>\n",
       "      <td>10121</td>\n",
       "      <td>Horses: live, pure-bred breeding animals</td>\n",
       "    </tr>\n",
       "    <tr>\n",
       "      <th>1</th>\n",
       "      <td>10129</td>\n",
       "      <td>Horses: live, other than pure-bred breeding an...</td>\n",
       "    </tr>\n",
       "    <tr>\n",
       "      <th>2</th>\n",
       "      <td>10130</td>\n",
       "      <td>Asses: live</td>\n",
       "    </tr>\n",
       "    <tr>\n",
       "      <th>3</th>\n",
       "      <td>10190</td>\n",
       "      <td>Mules and hinnies: live</td>\n",
       "    </tr>\n",
       "    <tr>\n",
       "      <th>4</th>\n",
       "      <td>10221</td>\n",
       "      <td>Cattle: live, pure-bred breeding animals</td>\n",
       "    </tr>\n",
       "    <tr>\n",
       "      <th>...</th>\n",
       "      <td>...</td>\n",
       "      <td>...</td>\n",
       "    </tr>\n",
       "    <tr>\n",
       "      <th>5379</th>\n",
       "      <td>970300</td>\n",
       "      <td>Sculptures and statuary: original, in any mate...</td>\n",
       "    </tr>\n",
       "    <tr>\n",
       "      <th>5380</th>\n",
       "      <td>970400</td>\n",
       "      <td>Stamps, postage or revenue: stamp-postmarks, f...</td>\n",
       "    </tr>\n",
       "    <tr>\n",
       "      <th>5381</th>\n",
       "      <td>970500</td>\n",
       "      <td>Collections and collectors' pieces: of zoologi...</td>\n",
       "    </tr>\n",
       "    <tr>\n",
       "      <th>5382</th>\n",
       "      <td>970600</td>\n",
       "      <td>Antiques: of an age exceeding one hundred years</td>\n",
       "    </tr>\n",
       "    <tr>\n",
       "      <th>5383</th>\n",
       "      <td>999999</td>\n",
       "      <td>Commodities not specified according to kind</td>\n",
       "    </tr>\n",
       "  </tbody>\n",
       "</table>\n",
       "<p>5384 rows × 2 columns</p>\n",
       "</div>"
      ],
      "text/plain": [
       "        code                                        description\n",
       "0      10121           Horses: live, pure-bred breeding animals\n",
       "1      10129  Horses: live, other than pure-bred breeding an...\n",
       "2      10130                                        Asses: live\n",
       "3      10190                            Mules and hinnies: live\n",
       "4      10221           Cattle: live, pure-bred breeding animals\n",
       "...      ...                                                ...\n",
       "5379  970300  Sculptures and statuary: original, in any mate...\n",
       "5380  970400  Stamps, postage or revenue: stamp-postmarks, f...\n",
       "5381  970500  Collections and collectors' pieces: of zoologi...\n",
       "5382  970600    Antiques: of an age exceeding one hundred years\n",
       "5383  999999        Commodities not specified according to kind\n",
       "\n",
       "[5384 rows x 2 columns]"
      ]
     },
     "execution_count": 28,
     "metadata": {},
     "output_type": "execute_result"
    }
   ],
   "source": [
    "df = pd.read_csv(\"data/product_codes_HS17_V202501.csv\")\n",
    "df"
   ]
  },
  {
   "cell_type": "code",
   "execution_count": 31,
   "metadata": {},
   "outputs": [],
   "source": [
    "product_codes = all_data.product_code.unique()"
   ]
  },
  {
   "cell_type": "code",
   "execution_count": 33,
   "metadata": {},
   "outputs": [
    {
     "data": {
      "text/html": [
       "<div>\n",
       "<style scoped>\n",
       "    .dataframe tbody tr th:only-of-type {\n",
       "        vertical-align: middle;\n",
       "    }\n",
       "\n",
       "    .dataframe tbody tr th {\n",
       "        vertical-align: top;\n",
       "    }\n",
       "\n",
       "    .dataframe thead th {\n",
       "        text-align: right;\n",
       "    }\n",
       "</style>\n",
       "<table border=\"1\" class=\"dataframe\">\n",
       "  <thead>\n",
       "    <tr style=\"text-align: right;\">\n",
       "      <th></th>\n",
       "      <th>year</th>\n",
       "      <th>product_code</th>\n",
       "      <th>exporter</th>\n",
       "      <th>importer</th>\n",
       "      <th>value</th>\n",
       "      <th>quantity</th>\n",
       "    </tr>\n",
       "  </thead>\n",
       "  <tbody>\n",
       "    <tr>\n",
       "      <th>0</th>\n",
       "      <td>2017</td>\n",
       "      <td>4</td>\n",
       "      <td>12</td>\n",
       "      <td>130120</td>\n",
       "      <td>5.946</td>\n",
       "      <td>1.400</td>\n",
       "    </tr>\n",
       "    <tr>\n",
       "      <th>1</th>\n",
       "      <td>2017</td>\n",
       "      <td>4</td>\n",
       "      <td>12</td>\n",
       "      <td>130190</td>\n",
       "      <td>5.125</td>\n",
       "      <td>2.320</td>\n",
       "    </tr>\n",
       "    <tr>\n",
       "      <th>2</th>\n",
       "      <td>2017</td>\n",
       "      <td>4</td>\n",
       "      <td>12</td>\n",
       "      <td>401031</td>\n",
       "      <td>0.087</td>\n",
       "      <td>0.002</td>\n",
       "    </tr>\n",
       "    <tr>\n",
       "      <th>3</th>\n",
       "      <td>2017</td>\n",
       "      <td>4</td>\n",
       "      <td>12</td>\n",
       "      <td>853890</td>\n",
       "      <td>0.303</td>\n",
       "      <td>0.019</td>\n",
       "    </tr>\n",
       "    <tr>\n",
       "      <th>4</th>\n",
       "      <td>2017</td>\n",
       "      <td>4</td>\n",
       "      <td>36</td>\n",
       "      <td>71320</td>\n",
       "      <td>3.538</td>\n",
       "      <td>2.446</td>\n",
       "    </tr>\n",
       "    <tr>\n",
       "      <th>...</th>\n",
       "      <td>...</td>\n",
       "      <td>...</td>\n",
       "      <td>...</td>\n",
       "      <td>...</td>\n",
       "      <td>...</td>\n",
       "      <td>...</td>\n",
       "    </tr>\n",
       "    <tr>\n",
       "      <th>66078695</th>\n",
       "      <td>2022</td>\n",
       "      <td>894</td>\n",
       "      <td>858</td>\n",
       "      <td>870891</td>\n",
       "      <td>1.313</td>\n",
       "      <td>0.052</td>\n",
       "    </tr>\n",
       "    <tr>\n",
       "      <th>66078696</th>\n",
       "      <td>2022</td>\n",
       "      <td>894</td>\n",
       "      <td>858</td>\n",
       "      <td>870895</td>\n",
       "      <td>0.161</td>\n",
       "      <td>0.002</td>\n",
       "    </tr>\n",
       "    <tr>\n",
       "      <th>66078697</th>\n",
       "      <td>2022</td>\n",
       "      <td>894</td>\n",
       "      <td>858</td>\n",
       "      <td>870899</td>\n",
       "      <td>0.022</td>\n",
       "      <td>0.001</td>\n",
       "    </tr>\n",
       "    <tr>\n",
       "      <th>66078698</th>\n",
       "      <td>2022</td>\n",
       "      <td>894</td>\n",
       "      <td>860</td>\n",
       "      <td>843143</td>\n",
       "      <td>66.201</td>\n",
       "      <td>0.190</td>\n",
       "    </tr>\n",
       "    <tr>\n",
       "      <th>66078699</th>\n",
       "      <td>2022</td>\n",
       "      <td>894</td>\n",
       "      <td>860</td>\n",
       "      <td>843149</td>\n",
       "      <td>70.549</td>\n",
       "      <td>0.200</td>\n",
       "    </tr>\n",
       "  </tbody>\n",
       "</table>\n",
       "<p>66078700 rows × 6 columns</p>\n",
       "</div>"
      ],
      "text/plain": [
       "          year  product_code  exporter  importer   value  quantity\n",
       "0         2017             4        12    130120   5.946     1.400\n",
       "1         2017             4        12    130190   5.125     2.320\n",
       "2         2017             4        12    401031   0.087     0.002\n",
       "3         2017             4        12    853890   0.303     0.019\n",
       "4         2017             4        36     71320   3.538     2.446\n",
       "...        ...           ...       ...       ...     ...       ...\n",
       "66078695  2022           894       858    870891   1.313     0.052\n",
       "66078696  2022           894       858    870895   0.161     0.002\n",
       "66078697  2022           894       858    870899   0.022     0.001\n",
       "66078698  2022           894       860    843143  66.201     0.190\n",
       "66078699  2022           894       860    843149  70.549     0.200\n",
       "\n",
       "[66078700 rows x 6 columns]"
      ]
     },
     "execution_count": 33,
     "metadata": {},
     "output_type": "execute_result"
    }
   ],
   "source": [
    "all_data"
   ]
  },
  {
   "cell_type": "code",
   "execution_count": 32,
   "metadata": {},
   "outputs": [
    {
     "data": {
      "text/plain": [
       "array([  4,   8,  12,  16,  20,  24,  28,  31,  32,  36,  40,  44,  48,\n",
       "        50,  51,  52,  56,  60,  64,  68,  70,  72,  76,  84,  86,  90,\n",
       "        92,  96, 100, 104, 108, 112, 116, 120, 124, 132, 136, 140, 144,\n",
       "       148, 152, 156, 162, 166, 170, 174, 178, 180, 184, 188, 191, 192,\n",
       "       196, 203, 204, 208, 212, 214, 218, 222, 226, 231, 232, 233, 238,\n",
       "       242, 246, 251, 258, 260, 262, 266, 268, 270, 275, 276, 288, 292,\n",
       "       296, 300, 304, 308, 316, 320, 324, 328, 332, 340, 344, 348, 352,\n",
       "       360, 364, 368, 372, 376, 380, 384, 388, 392, 398, 400, 404, 408,\n",
       "       410, 414, 417, 418, 422, 426, 428, 430, 434, 440, 442, 446, 450,\n",
       "       454, 458, 462, 466, 470, 478, 480, 484, 490, 496, 498, 499, 500,\n",
       "       504, 508, 512, 516, 520, 524, 528, 531, 533, 534, 535, 540, 548,\n",
       "       554, 558, 562, 566, 570, 574, 579, 580, 583, 584, 585, 586, 591,\n",
       "       598, 600, 604, 608, 612, 616, 620, 624, 626, 634, 642, 643, 646,\n",
       "       652, 654, 659, 660, 662, 666, 670, 674, 678, 682, 686, 688, 690,\n",
       "       694, 699, 702, 703, 704, 705, 706, 710, 716, 724, 728, 729, 740,\n",
       "       748, 752, 757, 760, 762, 764, 768, 772, 776, 780, 784, 788, 792,\n",
       "       795, 796, 798, 800, 804, 807, 818, 826, 834, 842, 854, 858, 860,\n",
       "       862, 876, 882, 887, 894])"
      ]
     },
     "execution_count": 32,
     "metadata": {},
     "output_type": "execute_result"
    }
   ],
   "source": [
    "product_codes"
   ]
  },
  {
   "cell_type": "code",
   "execution_count": 24,
   "metadata": {},
   "outputs": [
    {
     "data": {
      "text/plain": [
       "year              int64\n",
       "product_code      int64\n",
       "exporter          int64\n",
       "importer          int64\n",
       "value           float64\n",
       "quantity        float64\n",
       "dtype: object"
      ]
     },
     "execution_count": 24,
     "metadata": {},
     "output_type": "execute_result"
    }
   ],
   "source": [
    "all_data.dtypes"
   ]
  },
  {
   "cell_type": "code",
   "execution_count": 23,
   "metadata": {},
   "outputs": [
    {
     "data": {
      "text/plain": [
       "Index(['year', 'product_code', 'exporter', 'importer', 'value', 'quantity'], dtype='object')"
      ]
     },
     "execution_count": 23,
     "metadata": {},
     "output_type": "execute_result"
    }
   ],
   "source": [
    "all_data.columns"
   ]
  },
  {
   "cell_type": "code",
   "execution_count": 19,
   "metadata": {},
   "outputs": [
    {
     "data": {
      "text/plain": [
       "array([ 12,  36,  40,  48,  51,  56,  60,  68,  70,  76,  96, 100, 104,\n",
       "       112, 124, 144, 152, 156, 170, 188, 191, 203, 208, 214, 218, 222,\n",
       "       233, 246, 251, 268, 276, 300, 304, 320, 340, 344, 348, 352, 360,\n",
       "       364, 372, 376, 380, 392, 398, 400, 410, 414, 417, 422, 428, 440,\n",
       "       442, 450, 458, 480, 490, 496, 499, 504, 508, 512, 516, 528, 554,\n",
       "       558, 579, 586, 591, 600, 604, 616, 620, 642, 643, 688, 699, 703,\n",
       "       705, 710, 724, 729, 752, 757, 764, 792, 807, 826, 834, 842, 854,\n",
       "       858, 894,  20, 136, 196, 368, 446, 470, 584, 784, 804,   8,  24,\n",
       "        31,  32,  50,  84, 116, 120, 132, 140, 174, 178, 192, 204, 226,\n",
       "       231, 232, 262, 266, 270, 288, 308, 324, 328, 384, 404, 430, 434,\n",
       "       454, 462, 466, 478, 484, 498, 562, 566, 608, 634, 678, 682, 686,\n",
       "       694, 702, 704, 706, 716, 760, 762, 768, 788, 818, 860, 887, 242,\n",
       "       748,  44, 292, 332, 388, 524, 646, 659, 674, 780, 862, 418,   4,\n",
       "        16,  28,  52,  64,  72,  90,  92, 148, 162, 166, 180, 184, 212,\n",
       "       238, 258, 296, 316, 426, 500, 520, 531, 540, 548, 570, 574, 580,\n",
       "       583, 585, 598, 612, 626, 654, 662, 670, 690, 728, 740, 776, 795,\n",
       "       796, 798, 800, 876, 882, 108, 275, 408, 533, 534, 535, 624, 652,\n",
       "       660, 772,  86, 260, 666])"
      ]
     },
     "execution_count": 19,
     "metadata": {},
     "output_type": "execute_result"
    }
   ],
   "source": [
    "all_data.exporter.unique()"
   ]
  }
 ],
 "metadata": {
  "kernelspec": {
   "display_name": "base",
   "language": "python",
   "name": "python3"
  },
  "language_info": {
   "codemirror_mode": {
    "name": "ipython",
    "version": 3
   },
   "file_extension": ".py",
   "mimetype": "text/x-python",
   "name": "python",
   "nbconvert_exporter": "python",
   "pygments_lexer": "ipython3",
   "version": "3.11.4"
  }
 },
 "nbformat": 4,
 "nbformat_minor": 2
}
